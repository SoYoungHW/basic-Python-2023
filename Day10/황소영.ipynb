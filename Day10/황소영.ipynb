{
 "cells": [
  {
   "attachments": {},
   "cell_type": "markdown",
   "metadata": {},
   "source": [
    "## 1번"
   ]
  },
  {
   "cell_type": "code",
   "execution_count": 53,
   "metadata": {},
   "outputs": [
    {
     "name": "stdout",
     "output_type": "stream",
     "text": [
      "원의 넓이 : 153.938008\n",
      "원의 둘레 : 43.982288000000004 \n"
     ]
    }
   ],
   "source": [
    "radius = float(input('반지름 값을 입력하세요'))\n",
    "\n",
    "area = radius ** 2 * 3.141592\n",
    "cir = 2 * radius * 3.141592\n",
    "\n",
    "print(f'원의 넓이 : {area}')\n",
    "print(f'원의 둘레 : {cir} ')"
   ]
  },
  {
   "attachments": {},
   "cell_type": "markdown",
   "metadata": {},
   "source": [
    "## 2번"
   ]
  },
  {
   "cell_type": "code",
   "execution_count": 83,
   "metadata": {},
   "outputs": [
    {
     "name": "stdout",
     "output_type": "stream",
     "text": [
      "토성\n"
     ]
    }
   ],
   "source": [
    "txt = input('행성이름을 입력하세요')\n",
    "planet = {'Mercury' : '수성',\n",
    "          'Venus' : '금성', \n",
    "          'Earth' : '지구', \n",
    "          'Mars' : '화성',\n",
    "          'Jupiter' : '목성',\n",
    "          'Saturn' : '토성',\n",
    "          'Uranus' : '천왕성', \n",
    "          'Neptune' : '해왕성'}\n",
    "          \n",
    "print(planet[txt])"
   ]
  },
  {
   "attachments": {},
   "cell_type": "markdown",
   "metadata": {},
   "source": [
    "## 3번"
   ]
  },
  {
   "cell_type": "code",
   "execution_count": 1,
   "metadata": {},
   "outputs": [
    {
     "name": "stdout",
     "output_type": "stream",
     "text": [
      "1. 문자열 단어 수:  7 개\n",
      "2. 짝수 대문자 변경:  im GOING to LEAVE the DOOR open\n"
     ]
    }
   ],
   "source": [
    "txt = input('영어 문자열을 입력하세요: ').split()\n",
    "print('1. 문자열 단어 수: ', len(txt) ,'개')\n",
    "new = [] \n",
    "for i in range(len(txt)):\n",
    "    if (i+1) % 2 == 0:\n",
    "        new.append(txt[i].upper())  \n",
    "    else:\n",
    "        new.append(txt[i]) \n",
    "\n",
    "print('2. 짝수 대문자 변경: ', *new)"
   ]
  },
  {
   "attachments": {},
   "cell_type": "markdown",
   "metadata": {},
   "source": [
    "## 4번"
   ]
  },
  {
   "cell_type": "code",
   "execution_count": 58,
   "metadata": {},
   "outputs": [
    {
     "name": "stdout",
     "output_type": "stream",
     "text": [
      "258\n"
     ]
    }
   ],
   "source": [
    "num = int(input('숫자를 입력하세요'))\n",
    "print(int(str(num)[::-1]))"
   ]
  },
  {
   "attachments": {},
   "cell_type": "markdown",
   "metadata": {},
   "source": [
    "## 5번"
   ]
  },
  {
   "cell_type": "code",
   "execution_count": 63,
   "metadata": {},
   "outputs": [
    {
     "name": "stdout",
     "output_type": "stream",
     "text": [
      "7 X 1 = 7 / 7 X 2 = 14 / 7 X 3 = 21 / 7 X 4 = 28 / 7 X 5 = 35 / 7 X 6 = 42 / 7 X 7 = 49 / 7 X 8 = 56 / 7 X 9 = 63 / "
     ]
    }
   ],
   "source": [
    "num = int(input('숫자를 입력하세요'))\n",
    "for i in range(1,10):\n",
    "    print(f'{num} X {i} = {num*i}', end=' / ') "
   ]
  }
 ],
 "metadata": {
  "kernelspec": {
   "display_name": "venv",
   "language": "python",
   "name": "python3"
  },
  "language_info": {
   "codemirror_mode": {
    "name": "ipython",
    "version": 3
   },
   "file_extension": ".py",
   "mimetype": "text/x-python",
   "name": "python",
   "nbconvert_exporter": "python",
   "pygments_lexer": "ipython3",
   "version": "3.11.1"
  },
  "orig_nbformat": 4,
  "vscode": {
   "interpreter": {
    "hash": "2e858f6a62af7500a4fce304b323919e2ee47672e0170b223d92c0ac73e14920"
   }
  }
 },
 "nbformat": 4,
 "nbformat_minor": 2
}
